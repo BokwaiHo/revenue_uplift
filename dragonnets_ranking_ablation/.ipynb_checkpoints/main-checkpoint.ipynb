{
 "cells": [
  {
   "cell_type": "code",
   "execution_count": 5,
   "id": "68a1c7d5-3fea-47e5-b73f-58e7f1df732d",
   "metadata": {},
   "outputs": [],
   "source": [
    "from dragonnet import DragonNet\n",
    "import pandas as pd\n",
    "import numpy as np\n",
    "import scipy"
   ]
  },
  {
   "cell_type": "code",
   "execution_count": 8,
   "id": "97496a4e-547b-44d8-a67a-f4dc07cfdfd5",
   "metadata": {},
   "outputs": [
    {
     "name": "stdout",
     "output_type": "stream",
     "text": [
      "CPU times: user 5.67 s, sys: 7.83 s, total: 13.5 s\n",
      "Wall time: 13.6 s\n",
      "CPU times: user 2.8 s, sys: 3.59 s, total: 6.4 s\n",
      "Wall time: 6.42 s\n"
     ]
    }
   ],
   "source": [
    "%time train_df =  pd.read_pickle('../../train_data_0205.pkl')\n",
    "%time test_df =  pd.read_pickle('../../test_data_0205.pkl')"
   ]
  },
  {
   "cell_type": "code",
   "execution_count": 9,
   "id": "ceae4d4f-88d7-459e-a913-f8ee1db0f776",
   "metadata": {},
   "outputs": [],
   "source": [
    "in_features = ['meta_bitrate_diff', 'wifi_play_ratio', 'playing_time_funny', 'w3_app_use_duration_ks', 'fr_nn_vnus', 'is_photo_author_ks', 'nr_nn_diff_abs', 'w0_app_use_duration_ks', 'meta_bitrate_diff_abs', 'is_live_author', \n",
    "               'nr_nn_fast', 'playing_time_sport', 'is_active_7d_ks', 'video_ratio', 'blocky_probability_new', 'mbps_pct30_avg', 'low_catg_ratio', 'upload_days_num_30d', 'playing_time_travel', 'playing_time_animal', \n",
    "               'follow_cnt', 'fr_nn_diff_abs', 'meta_bitrate_vnus', 'friend_user_num', 'w1_active_day_ks', 'finish_played_ratio', 'play_cnt_11', 'sum_finish_play_ratio', 'playing_time_star', 'mbps_avg', 'playing_dur_15', \n",
    "               'nr_nn_vnus', 'live_days', 'general_score', 'inter_complexity', 'intra_complexity', 'playing_time_news', 'play_cnt_13', 'live_minutes', 'upload_cnt', 'nr_nn_diff', 'mbps_pct50_avg', 'playing_dur_17', 'playing_time_life', \n",
    "               'playing_time_game', 'mobile_mbps_overall', 'std_mbps_avg', 'mbps_pct90_avg', 'mbps_pct10_avg', 'playing_dur_14', 'playing_dur_11', '4g_play_ratio', 'playing_time_health', 'playing_dur_16', 'play_cnt_17', 'high_catg_ratio', \n",
    "               'playing_time_child', 'follow_user_num', 'upload_photo_num_30d', 'playing_time_rural', 'video_minutes', 'fr_nn_fast', 'playing_time_car', 'memory_kuaishou_score', 'playing_time_religion', 'fr_nn_diff', \n",
    "               'play_cnt_15', 'month_app_use_duration_ks', 'play_cnt', 'is_install_xigua', 'total_minutes', 'playing_dur_13', 'mbps_overall', 'play_cnt_16', 'playing_time_3c', 'avg_month_app_use_duration_ks', \n",
    "               'playing_time_knowledge', 'play_cnt_14', 'month_active_day_ks', 'playing_time_null', 'wifi_mbps_avg', 'playing_dur', 'playing_time_outfit', 'live_ratio', 'play_cnt_12', '5g_play_ratio', 'w3_active_day_ks', \n",
    "               'w1_app_use_duration_ks', 'playing_time_beauty', 'blur_probability_new', 'w2_app_use_duration_ks', 'meta_bitrate_fast', 'playing_time_food', 'w0_active_day_ks', 'playing_time_makeup', 'playing_time_movie', \n",
    "               'playing_time_emo', 'playing_time_dance', 'mid_catg_ratio', 'playing_time_carton', 'is_install_douyin', '720p_bitrate_mean', 'playing_dur_12', 'playing_time_military', 'w2_active_day_ks', 'io_kuaishou_score', \n",
    "               'playing_time_house', 'active_30d_cnt', 'p_app_platform', 'user_active_degree_ks', 'life_time_ks', 'active_7d_degree', 'user_active_degree', 'gender', 'age_segment', 'fre_community_type', 'fre_city_level', \n",
    "               'fre_sourth_north', 'fre_region', 'mod_price_range', 'reg_channel', 'fans_user_num_range', 'author_life_cycle']\n",
    "categorical_features = ['p_app_platform', 'user_active_degree_ks', 'life_time_ks', 'active_7d_degree', 'user_active_degree', 'gender', 'age_segment', 'fre_community_type', 'fre_city_level', 'fre_sourth_north', 'fre_region', \n",
    "                'mod_price_range', 'reg_channel', 'fans_user_num_range', 'author_life_cycle']\n",
    "label_feature = ['label_log']\n",
    "treatment_feature = ['groupId']"
   ]
  },
  {
   "cell_type": "code",
   "execution_count": 12,
   "id": "b39bd7c3-d3ea-44f0-9f6d-b0b61c079d4f",
   "metadata": {},
   "outputs": [],
   "source": [
    "X_train = train_df[in_features].values\n",
    "y_train = train_df[label_feature].values\n",
    "t_train = train_df[treatment_feature].values"
   ]
  },
  {
   "cell_type": "code",
   "execution_count": null,
   "id": "80b71749-cba0-48e5-8883-ff5e79d8c25f",
   "metadata": {},
   "outputs": [
    {
     "name": "stdout",
     "output_type": "stream",
     "text": [
      "epoch: 0--------- train_loss: 288111.0\n",
      "epoch: 1--------- train_loss: 119152.921875\n",
      "epoch: 2--------- train_loss: 145389.40625\n",
      "epoch: 3--------- train_loss: 661705.5\n",
      "epoch: 4--------- train_loss: 21254.640625\n",
      "epoch: 5--------- train_loss: 55724.4765625\n",
      "epoch: 6--------- train_loss: 10199.29296875\n",
      "epoch: 7--------- train_loss: 68413.359375\n",
      "epoch: 8--------- train_loss: 1262.052734375\n",
      "epoch: 9--------- train_loss: 735.3018798828125\n",
      "epoch: 10--------- train_loss: 828.4225463867188\n",
      "epoch: 11--------- train_loss: 1204.8345947265625\n",
      "epoch: 12--------- train_loss: 477.09014892578125\n",
      "epoch: 13--------- train_loss: 415.455810546875\n",
      "epoch: 14--------- train_loss: 683.6350708007812\n",
      "epoch: 15--------- train_loss: 523.7713012695312\n",
      "epoch: 16--------- train_loss: 326.0478515625\n",
      "epoch: 17--------- train_loss: 223.52944946289062\n",
      "epoch: 18--------- train_loss: 392.32196044921875\n",
      "epoch: 19--------- train_loss: 350.299072265625\n",
      "epoch: 20--------- train_loss: 482.0751037597656\n",
      "epoch: 21--------- train_loss: 377.26800537109375\n",
      "epoch: 22--------- train_loss: 514.525146484375\n",
      "epoch: 23--------- train_loss: 483.924560546875\n",
      "epoch: 24--------- train_loss: 483.9136962890625\n",
      "epoch: 25--------- train_loss: 483.90478515625\n",
      "epoch: 26--------- train_loss: 483.897216796875\n",
      "epoch: 27--------- train_loss: 483.890625\n",
      "epoch: 28--------- train_loss: 483.8852233886719\n",
      "epoch: 29--------- train_loss: 483.88055419921875\n",
      "epoch: 30--------- train_loss: 483.8765869140625\n",
      "epoch: 31--------- train_loss: 483.87310791015625\n",
      "epoch: 32--------- train_loss: 483.8703918457031\n",
      "epoch: 33--------- train_loss: 483.8691711425781\n",
      "epoch: 34--------- train_loss: 483.8676452636719\n",
      "epoch: 35--------- train_loss: 483.8648681640625\n",
      "epoch: 36--------- train_loss: 483.86248779296875\n",
      "epoch: 37--------- train_loss: 483.8601989746094\n",
      "epoch: 38--------- train_loss: 483.85821533203125\n",
      "epoch: 39--------- train_loss: 483.856689453125\n",
      "epoch: 40--------- train_loss: 483.85528564453125\n",
      "epoch: 41--------- train_loss: 483.85418701171875\n",
      "epoch: 42--------- train_loss: 483.85321044921875\n",
      "epoch: 43--------- train_loss: 483.85235595703125\n",
      "epoch: 47--------- train_loss: 483.8426513671875\n",
      "epoch: 48--------- train_loss: 483.843017578125\n",
      "epoch: 49--------- train_loss: 483.84320068359375\n",
      "epoch: 50--------- train_loss: 483.8438415527344\n",
      "epoch: 51--------- train_loss: 483.8444519042969\n",
      "epoch: 52--------- train_loss: 483.84539794921875\n"
     ]
    }
   ],
   "source": [
    "model = DragonNet(X_train.shape[1])\n",
    "model.fit(X_train, y_train, t_train)\n",
    "y0_pred, y1_pred, t_pred, _ = model.predict(X_test)"
   ]
  },
  {
   "cell_type": "code",
   "execution_count": null,
   "id": "6dbb3006-c3d3-4b49-b2e0-a0c590cbbaae",
   "metadata": {},
   "outputs": [],
   "source": [
    "test_df['target_dif'] = y1_pred - y0_pred"
   ]
  },
  {
   "cell_type": "code",
   "execution_count": null,
   "id": "dab11032-da24-4dfa-92cd-2bc1347687a6",
   "metadata": {},
   "outputs": [],
   "source": [
    "1"
   ]
  },
  {
   "cell_type": "code",
   "execution_count": null,
   "id": "60869dd1-22c6-4c8d-879c-067c120b9a0c",
   "metadata": {},
   "outputs": [],
   "source": [
    "def get_new_df(df, uplift_val, treatment_feature, label_feature):\n",
    "    new_df = pd.DataFrame(columns = [treatment_feature[0], label_feature[0], uplift_val])\n",
    "    new_df[treatment_feature[0]] = df[treatment_feature[0]]\n",
    "    new_df[label_feature[0]] = df[label_feature[0]]\n",
    "    new_df[uplift_val] = df[uplift_val]\n",
    "    return new_df\n",
    "    \n",
    "def auuc_metric(data, uplift_val, bucket_num, treatment_feature, label_feature, if_return = True, final_test = False):\n",
    "    print('label_feature',label_feature)\n",
    "    new_data = get_new_df(data, uplift_val, treatment_feature, label_feature)\n",
    "    if final_test:\n",
    "        del data\n",
    "    new_data = new_data.sort_values(by=uplift_val, ascending = False)\n",
    "    print(bucket_num)\n",
    "    new_data['bucket'] = pd.qcut(-new_data[uplift_val], bucket_num, labels=False, duplicates='drop')\n",
    "    print('====计算完毕====')\n",
    "    print('====生成随机数====')\n",
    "    new_data = new_data.sort_values(by=treatment_feature)\n",
    "    \n",
    "    l0, l1 = new_data.loc[new_data[treatment_feature[0]]==0], new_data.loc[new_data[treatment_feature[0]]==1]\n",
    "    mean0, mean1 = l0[label_feature].values.mean(), l1[label_feature].values.mean()\n",
    "    print('treatment = 0:', mean0, 'treatment = 1:', mean1)\n",
    "    r0, r1 = (np.random.rand(len(l0)) - 0.5)/100000 + mean0, (np.random.rand(len(l1)) - 0.5)/100000 + mean1\n",
    "    print(type(r0))\n",
    "    new_data['random'] = r0.tolist() + r1.tolist()\n",
    "    bucket_diff = []\n",
    "    print(set(new_data.bucket))\n",
    "    print('=========')\n",
    "    for i in set(new_data.bucket):\n",
    "        mean_treat = np.mean(new_data.loc[(new_data.bucket == i)&(new_data[treatment_feature[0]] == 1), label_feature].values)\n",
    "        mean_control = np.mean(new_data.loc[(new_data.bucket == i)&(new_data[treatment_feature[0]] == 0), label_feature].values)\n",
    "        bucket_diff.append(mean_treat / mean_control - 1)\n",
    "    plt.ylabel('diff of '+label_feature[0])\n",
    "    plt.bar(range(len(bucket_diff)),bucket_diff)\n",
    "    plt.show()\n",
    "    \n",
    "    res, population, rand_res, bucket_len = [], [], [], []\n",
    "    for i in np.arange(0, len(set(new_data.bucket)), 1):\n",
    "        dbucket = new_data.loc[new_data.bucket <= i]\n",
    "        db_base = dbucket.loc[dbucket[treatment_feature[0]] == 0]\n",
    "        db_exp = dbucket.loc[dbucket[treatment_feature[0]] == 1]\n",
    "        cumugain = (db_exp[label_feature].mean() / db_base[label_feature].mean() - 1) * (len(db_base) + len(db_exp))\n",
    "        cumu_random = (db_exp['random'].mean() / db_base['random'].mean()- 1 ) * (len(db_base) + len(db_exp))\n",
    "        population.append(len(db_base) + len(db_exp))\n",
    "        bucket_len.append(len(new_data[new_data.bucket == i]))\n",
    "        res.append(cumugain)\n",
    "        rand_res.append(cumu_random)\n",
    "    rand_res[-1] = res[-1]\n",
    "    cumuGain = pd.DataFrame({'cumuGain': res,\n",
    "                             'population': population,\n",
    "                             'percent': np.arange(1 / len(set(new_data.bucket)), 1 + 1 / len(set(new_data.bucket)),\n",
    "                                                  1 / len(set(new_data.bucket))),\n",
    "                             'random': rand_res})\n",
    "    \n",
    "    # 归一化 将值框定在[0，1]之间\n",
    "    cumugain = cumuGain['cumuGain']\n",
    "    gap0 = cumugain.iloc[-1].values\n",
    "    cumugain = [(i) / abs(gap0) for i in cumugain]\n",
    "\n",
    "    cumu_random = cumuGain['random']\n",
    "    gap = cumu_random.iloc[-1]\n",
    "    cumu_random = [(i) / abs(gap) for i in cumu_random]\n",
    "    \n",
    "    plt.plot(np.append(0,(np.array(population))/max(population)), np.append(0,cumugain), marker='*', label='pred')\n",
    "    plt.plot(np.append(0,(np.array(population))/max(population)), np.append(0,cumu_random), marker='*', label='random')\n",
    "    plt.grid(linestyle='--')\n",
    "    plt.xlabel('Percent')\n",
    "    plt.ylabel('Uplift')\n",
    "    plt.legend()\n",
    "    plt.show()\n",
    "    \n",
    "    # 近似计算cumugain函数和x轴围成的曲线下面积，也就是auuc\n",
    "    auuc_value, rand = np.trapz(np.append(0, cumugain),np.append(0, (np.array(population))/max(population))),\\\n",
    "                                np.trapz(np.append(0, cumu_random),np.append(0, (np.array(population))/max(population)))\n",
    "    auuc_value = auuc_value - rand\n",
    "    spearmanr_value = -scipy.stats.spearmanr(bucket_diff, list(set(new_data.bucket)))[0]\n",
    "    print(cumugain, np.array(population)/max(population))\n",
    "    if gap0 < 0: \n",
    "        auuc_value, rand = np.trapz([i + 1 for i in np.append(0, cumugain)], np.append(0,(np.array(population))/max(population))),\\\n",
    "                                    np.trapz([i + 1 for i in np.append(0, cumu_random)], np.append(0,(np.array(population))/max(population)))\n",
    "        auuc_value = auuc_value - rand\n",
    "    print('auuc score:', auuc_value, 'random score:', rand)\n",
    "    print('spearmanr:', spearmanr_value)\n",
    "    if if_return == True:return data\n",
    "    else: return auuc_value"
   ]
  },
  {
   "cell_type": "code",
   "execution_count": null,
   "id": "41cf95d2-748b-45e3-bf88-3cb18dfeefbd",
   "metadata": {},
   "outputs": [],
   "source": [
    "auuc_metric(test_df,'target_dif', 5, treatment_feature, label_feature, if_return = False)"
   ]
  }
 ],
 "metadata": {
  "kernelspec": {
   "display_name": "Python 3 (ipykernel)",
   "language": "python",
   "name": "python3"
  },
  "language_info": {
   "codemirror_mode": {
    "name": "ipython",
    "version": 3
   },
   "file_extension": ".py",
   "mimetype": "text/x-python",
   "name": "python",
   "nbconvert_exporter": "python",
   "pygments_lexer": "ipython3",
   "version": "3.7.10"
  }
 },
 "nbformat": 4,
 "nbformat_minor": 5
}
